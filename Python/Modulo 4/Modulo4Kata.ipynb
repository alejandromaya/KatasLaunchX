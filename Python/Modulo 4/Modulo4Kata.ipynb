{
 "cells": [
  {
   "cell_type": "markdown",
   "metadata": {},
   "source": [
    "## Ejercicio 1: Transformar cadenas"
   ]
  },
  {
   "cell_type": "code",
   "execution_count": 4,
   "metadata": {},
   "outputs": [],
   "source": [
    "text = \"\"\"dasdsdsadsa\"\"\""
   ]
  },
  {
   "cell_type": "code",
   "execution_count": 5,
   "metadata": {},
   "outputs": [
    {
     "data": {
      "text/plain": [
       "['dasdsdsadsa ']"
      ]
     },
     "execution_count": 5,
     "metadata": {},
     "output_type": "execute_result"
    }
   ],
   "source": [
    "\n",
    "text_parts = text.split('. ')\n",
    "text_parts"
   ]
  },
  {
   "cell_type": "code",
   "execution_count": 1,
   "metadata": {},
   "outputs": [],
   "source": [
    "keys_words = [\"average\",\"temperature\",\"distance\"]"
   ]
  },
  {
   "cell_type": "code",
   "execution_count": 6,
   "metadata": {},
   "outputs": [],
   "source": [
    "for sentence in text_parts:\n",
    "    for key_word in keys_words:\n",
    "        if key_word in sentence:\n",
    "            print(sentence)\n",
    "            break"
   ]
  },
  {
   "cell_type": "code",
   "execution_count": 7,
   "metadata": {},
   "outputs": [],
   "source": [
    "for sentence in text_parts:\n",
    "    for key_word in keys_words:\n",
    "        if key_word in sentence:\n",
    "            print(sentence.replace(' C','Celcius'))\n",
    "            break"
   ]
  },
  {
   "cell_type": "markdown",
   "metadata": {},
   "source": [
    "## Ejercicio 2: Formateando Cadenas"
   ]
  },
  {
   "cell_type": "code",
   "execution_count": 11,
   "metadata": {},
   "outputs": [],
   "source": [
    "#Declaramos variables para trabajar\n",
    "name = 'Moon '\n",
    "gravity = 0.00162 # in kms\n",
    "planet = 'Earth'"
   ]
  },
  {
   "cell_type": "code",
   "execution_count": 12,
   "metadata": {},
   "outputs": [],
   "source": [
    "#Creamos titulo de plantilla\n",
    "title = f'Datos de gravedad sobre {name}'"
   ]
  },
  {
   "cell_type": "code",
   "execution_count": 30,
   "metadata": {},
   "outputs": [],
   "source": [
    "#Generamos contenido de plantilla\n",
    "content = f\"\"\"{'-'*60}\n",
    "Nombre del planeta: {planet}\n",
    "Gravedad en {name}: {gravity} m/s2\n",
    "\"\"\""
   ]
  },
  {
   "cell_type": "code",
   "execution_count": 31,
   "metadata": {},
   "outputs": [
    {
     "name": "stdout",
     "output_type": "stream",
     "text": [
      "Datos De Gravedad Sobre Moon \n",
      "------------------------------------------------------------\n",
      "Nombre del planeta: Mars \n",
      "Gravedad en Ganímedes: 0.00143 m/s2\n",
      "\n"
     ]
    }
   ],
   "source": [
    "#Union de ambas cadenas\n",
    "template = f\"\"\"{title.title()}\n",
    "{content}\"\"\"\n",
    "print(template)"
   ]
  },
  {
   "cell_type": "code",
   "execution_count": 22,
   "metadata": {},
   "outputs": [],
   "source": [
    "#Datos diferentes de muestra\n",
    "name = 'Ganímedes'\n",
    "gravity = 0.00143 # in kms\n",
    "planet = 'Mars '"
   ]
  },
  {
   "cell_type": "code",
   "execution_count": 26,
   "metadata": {},
   "outputs": [
    {
     "name": "stdout",
     "output_type": "stream",
     "text": [
      "Datos De Gravedad Sobre Moon \n",
      "------------------------------------------------------------\n",
      "Nombre del planeta: Earth\n",
      "Gravedad en kms: 0.00162 m/s2\n",
      "\n"
     ]
    }
   ],
   "source": [
    "#Comprobamos plantilla\n",
    "print(template) "
   ]
  },
  {
   "cell_type": "code",
   "execution_count": 29,
   "metadata": {},
   "outputs": [
    {
     "name": "stdout",
     "output_type": "stream",
     "text": [
      "\n",
      "Datos de gravedad sobre Ganímedes\n",
      "------------------------------------------------------------\n",
      "Nombre del planeta: Mars \n",
      "Gravedad en Ganímedes: 0.00143 m/s2\n"
     ]
    }
   ],
   "source": [
    "new_tamplete = f\"\"\"\n",
    "Datos de gravedad sobre {name}\n",
    "{'-'*60}\n",
    "Nombre del planeta: {planet}\n",
    "Gravedad en {name}: {gravity} m/s2\"\"\"\n",
    "\n",
    "print(new_tamplete.format(name=name, planet=planet, gravity=gravity))"
   ]
  }
 ],
 "metadata": {
  "interpreter": {
   "hash": "c4e4f8630bff7218142d9b282128079240ba5f435f9a40f36458648626a88a8d"
  },
  "kernelspec": {
   "display_name": "Python 3.9.5 64-bit",
   "language": "python",
   "name": "python3"
  },
  "language_info": {
   "codemirror_mode": {
    "name": "ipython",
    "version": 3
   },
   "file_extension": ".py",
   "mimetype": "text/x-python",
   "name": "python",
   "nbconvert_exporter": "python",
   "pygments_lexer": "ipython3",
   "version": "3.9.5"
  },
  "orig_nbformat": 4
 },
 "nbformat": 4,
 "nbformat_minor": 2
}
