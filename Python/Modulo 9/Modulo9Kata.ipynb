{
 "cells": [
  {
   "cell_type": "markdown",
   "metadata": {},
   "source": [
    "## Ejercicio 1: Uso de funciones en Python"
   ]
  },
  {
   "cell_type": "code",
   "execution_count": 2,
   "metadata": {},
   "outputs": [],
   "source": [
    "def generate_report(main_tank, external_tank, reserve_tank):\n",
    "    total_average = (main_tank + external_tank + reserve_tank) / 3\n",
    "    return f\"\"\"Fuel report: \n",
    "    Total Average: {total_average}%\n",
    "    Main tank: {main_tank}%\n",
    "    External tank: {external_tank}%\n",
    "    Reserve tank: {reserve_tank}%\"\"\"\n",
    "    "
   ]
  },
  {
   "cell_type": "code",
   "execution_count": 3,
   "metadata": {},
   "outputs": [
    {
     "name": "stdout",
     "output_type": "stream",
     "text": [
      "Fuel report: \n",
      "    Total Average: 90.0%\n",
      "    Main tank: 80%\n",
      "    External tank: 90%\n",
      "    Reserve tank: 100%\n"
     ]
    }
   ],
   "source": [
    "print(generate_report(80,90,100))"
   ]
  },
  {
   "cell_type": "code",
   "execution_count": 5,
   "metadata": {},
   "outputs": [
    {
     "data": {
      "text/plain": [
       "90.0"
      ]
     },
     "execution_count": 5,
     "metadata": {},
     "output_type": "execute_result"
    }
   ],
   "source": [
    "def average (values):\n",
    "    total = sum(values)\n",
    "    number_items = len(values)\n",
    "    return total / number_items\n",
    "\n",
    "average([80, 90, 100])"
   ]
  },
  {
   "cell_type": "code",
   "execution_count": 6,
   "metadata": {},
   "outputs": [
    {
     "name": "stdout",
     "output_type": "stream",
     "text": [
      "Fuel report: \n",
      "    Total Average: 80.0%\n",
      "    Main tank: 80%\n",
      "    External tank: 90%\n",
      "    Reserve tank: 70%\n"
     ]
    }
   ],
   "source": [
    "def generate_report(main_tank, external_tank, reserve_tank):\n",
    "    return f\"\"\"Fuel report: \n",
    "    Total Average: {average([main_tank, external_tank, reserve_tank])}%\n",
    "    Main tank: {main_tank}%\n",
    "    External tank: {external_tank}%\n",
    "    Reserve tank: {reserve_tank}%\"\"\"\n",
    "\n",
    "print(generate_report(80,90,70))"
   ]
  },
  {
   "cell_type": "markdown",
   "metadata": {},
   "source": [
    "## Ejercicio 2: Trabajo con argumentos de palabra clave"
   ]
  },
  {
   "cell_type": "code",
   "execution_count": 12,
   "metadata": {},
   "outputs": [
    {
     "name": "stdout",
     "output_type": "stream",
     "text": [
      "\n",
      "    Mision en Luna\n",
      "    Tiempo total del viaje 34 minutos\n",
      "    Combustible total: 7000\n"
     ]
    }
   ],
   "source": [
    "#Función del infome completo de misión(tiempo de lanzamiento, tiempo de vuelo, destino, combustible interno y externo)\n",
    "def mission_report(launch_time, fligth_time, destination, external_tank, main_tank):\n",
    "    return f\"\"\"\n",
    "    Mision en {destination}\n",
    "    Tiempo total del viaje {launch_time + fligth_time} minutos\n",
    "    Combustible total: {external_tank + main_tank}\"\"\"\n",
    "\n",
    "print(mission_report(14, 20, \"Luna\" ,3000, 4000))"
   ]
  },
  {
   "cell_type": "code",
   "execution_count": 14,
   "metadata": {},
   "outputs": [
    {
     "name": "stdout",
     "output_type": "stream",
     "text": [
      "\n",
      "    Mision en Luna\n",
      "    Tiempo total del viaje 38 minutos\n",
      "    Combustible total: 7300\n"
     ]
    }
   ],
   "source": [
    "def mission_report(destination, *minutes, **fuel_revervoirs):\n",
    "    return f\"\"\"\n",
    "    Mision en {destination}\n",
    "    Tiempo total del viaje {sum(minutes)} minutos\n",
    "    Combustible total: {sum(fuel_revervoirs.values())}\"\"\"\n",
    "\n",
    "print(mission_report(\"Luna\", 15, 20, 3, main= 4000, external= 3300))\n",
    "       "
   ]
  },
  {
   "cell_type": "code",
   "execution_count": 25,
   "metadata": {},
   "outputs": [
    {
     "name": "stdout",
     "output_type": "stream",
     "text": [
      "Mision en Luna\n",
      "    Tiempo total del viaje 38 minutos\n",
      "    Combustible total: 7300\n",
      "    main tank es de 4000 galones restantes \n",
      "external tank es de 3300 galones restantes \n",
      "\n"
     ]
    }
   ],
   "source": [
    "def mission_report(destination, *minutes, **fuel_revervoirs):\n",
    "    main_report =  f\"\"\"Mision en {destination}\n",
    "    Tiempo total del viaje {sum(minutes)} minutos\n",
    "    Combustible total: {sum(fuel_revervoirs.values())}\n",
    "    \"\"\"\n",
    "    for tank_name, gallons in fuel_revervoirs.items():\n",
    "        main_report += f\"{tank_name} tank es de {gallons} galones restantes \\n\"\n",
    "    return main_report\n",
    "\n",
    "print(mission_report(\"Luna\", 15, 20, 3, main= 4000, external= 3300))\n"
   ]
  }
 ],
 "metadata": {
  "interpreter": {
   "hash": "57baa5815c940fdaff4d14510622de9616cae602444507ba5d0b6727c008cbd6"
  },
  "kernelspec": {
   "display_name": "Python 3.7.8 64-bit",
   "language": "python",
   "name": "python3"
  },
  "language_info": {
   "codemirror_mode": {
    "name": "ipython",
    "version": 3
   },
   "file_extension": ".py",
   "mimetype": "text/x-python",
   "name": "python",
   "nbconvert_exporter": "python",
   "pygments_lexer": "ipython3",
   "version": "3.9.5"
  },
  "orig_nbformat": 4
 },
 "nbformat": 4,
 "nbformat_minor": 2
}
