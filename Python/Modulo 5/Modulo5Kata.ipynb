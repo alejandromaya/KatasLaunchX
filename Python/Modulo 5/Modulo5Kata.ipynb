{
 "cells": [
  {
   "cell_type": "markdown",
   "metadata": {},
   "source": [
    "## Ejercicio 1: Utilizar Operadores aritméticos"
   ]
  },
  {
   "cell_type": "code",
   "execution_count": 15,
   "metadata": {},
   "outputs": [],
   "source": [
    "#Declaramos valores de nuestros planetas\n",
    "\n",
    "Earth = 149597870\n",
    "Jupiter = 778547200"
   ]
  },
  {
   "cell_type": "code",
   "execution_count": null,
   "metadata": {},
   "outputs": [
    {
     "name": "stdout",
     "output_type": "stream",
     "text": [
      "628949330\n",
      "390577534\n"
     ]
    }
   ],
   "source": [
    "#Calculamos la distancia entre los planetas\n",
    "distancekms= (Jupiter - Earth)\n",
    "distancemiles= distancekms*0.621\n",
    "\n",
    "print (distancekms)\n",
    "print (round(distancemiles))"
   ]
  },
  {
   "cell_type": "markdown",
   "metadata": {},
   "source": [
    "## Ejercicio 2: Convierte cadenas en números y usa los valores absolutos"
   ]
  },
  {
   "cell_type": "code",
   "execution_count": 6,
   "metadata": {},
   "outputs": [],
   "source": [
    "#Almacena las entradas del usuario\n",
    "planet_one = input('Ingrese la distancia del primer planeta en KM: ')\n",
    "planet_two = input('Ingrese la distancia del segundo planeta en KM: ')"
   ]
  },
  {
   "cell_type": "code",
   "execution_count": 7,
   "metadata": {},
   "outputs": [],
   "source": [
    "#Convertimos los valores de cadena en valores enteros\n",
    "planet_one = int(planet_one)\n",
    "planet_two = int(planet_two)"
   ]
  },
  {
   "cell_type": "code",
   "execution_count": 8,
   "metadata": {},
   "outputs": [
    {
     "name": "stdout",
     "output_type": "stream",
     "text": [
      "4189181100000\n",
      "2601481463100\n"
     ]
    }
   ],
   "source": [
    "#Calculamos la distancia\n",
    "distancekmsplanets = planet_two - planet_one\n",
    "print(distancekmsplanets)\n",
    "#Convertir KM en Millas\n",
    "distancemilesplanets = distancekmsplanets*0.621\n",
    "print(round(abs(distancemilesplanets)))"
   ]
  }
 ],
 "metadata": {
  "interpreter": {
   "hash": "c4e4f8630bff7218142d9b282128079240ba5f435f9a40f36458648626a88a8d"
  },
  "kernelspec": {
   "display_name": "Python 3.9.5 64-bit",
   "language": "python",
   "name": "python3"
  },
  "language_info": {
   "codemirror_mode": {
    "name": "ipython",
    "version": 3
   },
   "file_extension": ".py",
   "mimetype": "text/x-python",
   "name": "python",
   "nbconvert_exporter": "python",
   "pygments_lexer": "ipython3",
   "version": "3.9.5"
  },
  "orig_nbformat": 4
 },
 "nbformat": 4,
 "nbformat_minor": 2
}
